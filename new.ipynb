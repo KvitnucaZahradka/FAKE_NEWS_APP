{
 "cells": [
  {
   "cell_type": "code",
   "execution_count": 2,
   "metadata": {
    "collapsed": true
   },
   "outputs": [],
   "source": [
    "import os"
   ]
  },
  {
   "cell_type": "code",
   "execution_count": 8,
   "metadata": {},
   "outputs": [],
   "source": [
    "import python_whois.pythonwhois as pw"
   ]
  },
  {
   "cell_type": "code",
   "execution_count": 15,
   "metadata": {},
   "outputs": [],
   "source": [
    "dmn = pw.get_whois('sme.sk')"
   ]
  },
  {
   "cell_type": "code",
   "execution_count": 17,
   "metadata": {},
   "outputs": [],
   "source": [
    "int(dmn[''])"
   ]
  },
  {
   "cell_type": "code",
   "execution_count": 19,
   "metadata": {},
   "outputs": [
    {
     "data": {
      "text/plain": [
       "['%\\n% whois.sk-nic.sk - whois server for TLD .sk\\n%\\n\\n\\nDomain-name         sme.sk\\nAdmin-id            PPRE-0001\\nAdmin-name          Petit press, a.s.\\nAdmin-legal-form    akciova spolocnost\\nAdmin-org.-ID       35790253\\nAdmin-address       Lazaretska 12, Bratislava 811 01\\nAdmin-telephone     +421 259233 116, +421 259233 621\\nAdmin-email         miroslav.polnis@petitpress.sk;martin.corej@smeonline.sk\\nTech-id             WEBS-0001\\nTech-name           Websupport, s.r.o.\\nTech-org.-ID        36421928\\nTech-address        Stare grunty 12, Bratislava 84104\\nTech-email          helpdesk@websupport.sk\\ndns_name            nss1.bonet.sk\\ndns_name            nss2.bonet.sk\\ndns_name            nss1.bntb.net\\nLast-update         2016-03-08\\nValid-date          2017-03-23\\nDomain-status       DOM_OK\\n\\n']"
      ]
     },
     "execution_count": 19,
     "metadata": {},
     "output_type": "execute_result"
    }
   ],
   "source": [
    "dmn['raw']"
   ]
  },
  {
   "cell_type": "code",
   "execution_count": null,
   "metadata": {},
   "outputs": [],
   "source": [
    ""
   ]
  },
  {
   "cell_type": "code",
   "execution_count": 7,
   "metadata": {},
   "outputs": [],
   "source": [
    "raw = pw.get_whois('100percentfedup.com')"
   ]
  },
  {
   "cell_type": "code",
   "execution_count": 14,
   "metadata": {},
   "outputs": [],
   "source": [
    "date = raw['creation_date'][0]"
   ]
  },
  {
   "cell_type": "code",
   "execution_count": 2,
   "metadata": {},
   "outputs": [
    {
     "ename": "NameError",
     "evalue": "name 'helpful_functions' is not defined",
     "traceback": [
      "\u001b[0;31m---------------------------------------------------------------------------\u001b[0m",
      "\u001b[0;31mNameError\u001b[0m                                 Traceback (most recent call last)",
      "\u001b[0;32m<ipython-input-2-8138c33314f1>\u001b[0m in \u001b[0;36m<module>\u001b[0;34m()\u001b[0m\n\u001b[0;32m----> 1\u001b[0;31m \u001b[0mtrue_meta\u001b[0m \u001b[0;34m=\u001b[0m \u001b[0mhelpful_functions\u001b[0m\u001b[0;34m.\u001b[0m\u001b[0msafely_open\u001b[0m\u001b[0;34m(\u001b[0m\u001b[0;34m'true_urls_metadata'\u001b[0m\u001b[0;34m,\u001b[0m \u001b[0;32mTrue\u001b[0m\u001b[0;34m)\u001b[0m\u001b[0;34m\u001b[0m\u001b[0m\n\u001b[0m",
      "\u001b[0;31mNameError\u001b[0m: name 'helpful_functions' is not defined"
     ],
     "output_type": "error"
    }
   ],
   "source": [
    "true_meta = helpful_functions.safely_open('true_urls_metadata', True)"
   ]
  }
 ],
 "metadata": {
  "kernelspec": {
   "display_name": "Python 2",
   "language": "python",
   "name": "python2"
  },
  "language_info": {
   "codemirror_mode": {
    "name": "ipython",
    "version": 2.0
   },
   "file_extension": ".py",
   "mimetype": "text/x-python",
   "name": "python",
   "nbconvert_exporter": "python",
   "pygments_lexer": "ipython2",
   "version": "2.7.6"
  }
 },
 "nbformat": 4,
 "nbformat_minor": 0
}